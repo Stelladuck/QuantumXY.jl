{
 "cells": [
  {
   "cell_type": "code",
   "execution_count": 3,
   "metadata": {},
   "outputs": [
    {
     "name": "stderr",
     "output_type": "stream",
     "text": [
      "┌ Info: Precompiling QuantumXY [top-level]\n",
      "└ @ Base loading.jl:1278\n",
      "ERROR: LoadError: syntax: incomplete: \"module\" at /home/stelladuck/QuantumXY.jl/src/QuantumXY.jl:1 requires end\n",
      "Stacktrace:\n",
      " [1] top-level scope at /home/stelladuck/QuantumXY.jl/src/QuantumXY.jl:1\n",
      " [2] include(::Function, ::Module, ::String) at ./Base.jl:380\n",
      " [3] include(::Module, ::String) at ./Base.jl:368\n",
      " [4] top-level scope at none:2\n",
      " [5] eval at ./boot.jl:347 [inlined]\n",
      " [6] eval(::Expr) at ./client.jl:467\n",
      " [7] top-level scope at ./none:3\n",
      "in expression starting at /home/stelladuck/QuantumXY.jl/src/QuantumXY.jl:1\n"
     ]
    },
    {
     "ename": "LoadError",
     "evalue": "\u001b[91mFailed to precompile QuantumXY [top-level] to /home/stelladuck/.julia/compiled/v1.5/QuantumXY.ji.\u001b[39m",
     "output_type": "error",
     "traceback": [
      "\u001b[91mFailed to precompile QuantumXY [top-level] to /home/stelladuck/.julia/compiled/v1.5/QuantumXY.ji.\u001b[39m",
      "",
      "Stacktrace:",
      " [1] error(::String) at ./error.jl:33",
      " [2] compilecache(::Base.PkgId, ::String) at ./loading.jl:1305",
      " [3] _require(::Base.PkgId) at ./loading.jl:1030",
      " [4] require(::Base.PkgId) at ./loading.jl:928",
      " [5] require(::Module, ::Symbol) at ./loading.jl:923",
      " [6] include_string(::Function, ::Module, ::String, ::String) at ./loading.jl:1091"
     ]
    }
   ],
   "source": [
    "using QuantumXY\n",
    "using IterTools\n",
    "using LinearAlgebra, SparseArrays\n",
    "using Plots\n",
    "using Arpack"
   ]
  },
  {
   "cell_type": "code",
   "execution_count": null,
   "metadata": {},
   "outputs": [],
   "source": [
    "generate_Hamiltonian(generate_full_basis(3),1,1)"
   ]
  }
 ],
 "metadata": {
  "kernelspec": {
   "display_name": "Julia 1.5.4",
   "language": "julia",
   "name": "julia-1.5"
  },
  "language_info": {
   "file_extension": ".jl",
   "mimetype": "application/julia",
   "name": "julia",
   "version": "1.5.4"
  }
 },
 "nbformat": 4,
 "nbformat_minor": 4
}
